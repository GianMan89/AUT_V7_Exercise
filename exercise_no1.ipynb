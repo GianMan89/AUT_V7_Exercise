{
 "cells": [
  {
   "cell_type": "markdown",
   "id": "e4d7d85b",
   "metadata": {},
   "source": [
    "# Übung: Alarmmanagement – Datenanalyse und Alarmflutklassifikation\n",
    "\n",
    "In dieser Übung durchlaufen Sie eine vollständige Pipeline des industriellen Alarmmanagements. Ziel ist es, die grundlegenden Konzepte praktisch umzusetzen, von der Verarbeitung realer Prozessdaten über die Berechnung von Alarmmetriken bis hin zur Implementierung und Auswertung von Methoden zur Klassifikation von Alarmfluten.\n",
    "\n",
    "**Lernziele:**\n",
    "- Umgang mit industriellen Alarmdaten\n",
    "- Berechnung relevanter Alarmmetriken\n",
    "- Implementierung einfacher Techniken (z.B. Alarm-Totbänder)\n",
    "- Extraktion von Merkmalen zur Klassifikation von Alarmfluten (WDI-1NN & ACM-SVM)\n",
    "- Evaluation der Klassifikationsergebnisse (Confusion Matrix, Genauigkeit)\n",
    "\n",
    "Die jeweiligen Stellen zur eigenständigen Implementierung sind im Notebook mit **\"TODO\"** klar gekennzeichnet."
   ]
  },
  {
   "cell_type": "code",
   "execution_count": null,
   "id": "4652c8c8",
   "metadata": {},
   "outputs": [],
   "source": [
    "import numpy as np\n",
    "import pandas as pd"
   ]
  },
  {
   "cell_type": "markdown",
   "id": "20e33ab9",
   "metadata": {},
   "source": [
    "## 1. Datensatz laden und erkunden\n",
    "\n",
    "Laden Sie den bereitgestellten Datensatz mit vorannotierten Alarmfluten. Erkunden Sie anschließend die Struktur der Daten.\n",
    "\n",
    "- Prozessvariablen und Alarmfluten sind bereits enthalten.\n",
    "- Gelabelte Klassen (Klassen 0 bis 4) liegen ebenfalls vor (z.B. Ursachen für Alarmfluten)."
   ]
  },
  {
   "cell_type": "code",
   "execution_count": 33,
   "id": "fb29c2f3",
   "metadata": {},
   "outputs": [
    {
     "name": "stdout",
     "output_type": "stream",
     "text": [
      "Datenform: (1000, 10, 300)\n",
      "Labels-Form: (1000,)\n",
      "Klassenverteilung:\n",
      "Klasse 0: 200\n",
      "Klasse 1: 200\n",
      "Klasse 2: 200\n",
      "Klasse 3: 200\n",
      "Klasse 4: 200\n"
     ]
    }
   ],
   "source": [
    "# Leere Listen für Daten und Labels initialisieren\n",
    "data = []\n",
    "labels = []\n",
    "\n",
    "for j in range(1, 1001):\n",
    "    # Pfad zur CSV-Datei\n",
    "    csv_file_path = 'process_data/sample_{}.csv'.format(j)\n",
    "    # Lese die Daten aus der CSV-Datei\n",
    "    df = pd.read_csv(csv_file_path, index_col=None)\n",
    "    df = df.drop(df.columns[0], axis=1)\n",
    "    if j in range(1, 201):\n",
    "        l = 0\n",
    "    elif j in range(201, 401):\n",
    "        l = 1\n",
    "    elif j in range(401, 601):\n",
    "        l = 2\n",
    "    elif j in range(601, 801):\n",
    "        l = 3\n",
    "    elif j in range(801, 1001):\n",
    "        l = 4\n",
    "        # continue\n",
    "    labels.append(l)\n",
    "    data.append(df.values.transpose())\n",
    "\n",
    "# Konvertiere Daten und Labels in numpy-Arrays\n",
    "X = np.array(data)\n",
    "y = np.array(labels)\n",
    "\n",
    "# Gib die Form der Daten und Labels aus\n",
    "print(\"Datenform: {}\".format(X.shape))\n",
    "print(\"Labels-Form: {}\".format(y.shape))\n",
    "unique, counts = np.unique(y, return_counts=True)\n",
    "print(\"Klassenverteilung:\")\n",
    "for cls, cnt in zip(unique, counts):\n",
    "    print(f\"Klasse {cls}: {cnt}\")"
   ]
  },
  {
   "cell_type": "markdown",
   "id": "51b7a5a1",
   "metadata": {},
   "source": [
    "## 2. Alarmdaten aus Prozessdaten generieren\n",
    "\n",
    "Erzeugen Sie aus den Prozessdaten binäre Alarmdaten. Die Alarmgrenzwerte sind vorgegeben.\n",
    "\n",
    "- Ein Alarm wird aktiv, wenn der Grenzwert überschritten wird (HI-Alarm) oder unterschritten wird (LO-Alarm)."
   ]
  },
  {
   "cell_type": "code",
   "execution_count": null,
   "id": "fc035b2b",
   "metadata": {},
   "outputs": [],
   "source": [
    "# TODO: Alarmdaten aus Prozessvariablen generieren"
   ]
  },
  {
   "cell_type": "code",
   "execution_count": 34,
   "id": "3a459c24",
   "metadata": {},
   "outputs": [
    {
     "name": "stdout",
     "output_type": "stream",
     "text": [
      "Shape der generierten Alarmdaten: (1000, 20, 300)\n",
      "Beispiel für generierte Alarmdaten (erstes Sample):\n",
      "[[1. 1. 1. ... 1. 1. 1.]\n",
      " [1. 1. 1. ... 1. 1. 1.]\n",
      " [0. 0. 0. ... 0. 0. 0.]\n",
      " ...\n",
      " [1. 1. 1. ... 1. 1. 1.]\n",
      " [1. 1. 1. ... 1. 1. 1.]\n",
      " [1. 1. 1. ... 1. 0. 0.]]\n"
     ]
    }
   ],
   "source": [
    "# Vorgegebene Grenzwerte für 22 Alarmvariablen\n",
    "# 11x HI (oberer Grenzwert), 11x LO (unterer Grenzwert)\n",
    "alarm_limits_lo = np.array([-0.08, 31.50, 122.88, 0.09, 90.85, 2697.26, 44.02, 265.73, 102.19, 39.55, 28.94])\n",
    "alarm_limits_hi = np.array([0.62, 33.34, 122.92, 0.33, 93.19, 2711.82, 55.98, 280.31, 102.75, 40.45, 38.32])\n",
    "\n",
    "num_samples, num_variables, num_timesteps = X.shape\n",
    "\n",
    "# Binäre Alarmdaten initialisieren\n",
    "X_alarms = np.zeros((num_samples, num_variables * 2, num_timesteps))\n",
    "\n",
    "# Alarme generieren\n",
    "for sample_idx in range(num_samples):\n",
    "    for var_idx in range(num_variables):\n",
    "        hi_limit = alarm_limits_hi[var_idx]\n",
    "        lo_limit = alarm_limits_lo[var_idx]\n",
    "\n",
    "        # High-Alarm aktiv, wenn Wert > HI-Limit\n",
    "        X_alarms[sample_idx, var_idx, :] = (X[sample_idx, var_idx, :] > hi_limit).astype(int)\n",
    "\n",
    "        # Low-Alarm aktiv, wenn Wert < LO-Limit\n",
    "        X_alarms[sample_idx, var_idx + num_variables, :] = (X[sample_idx, var_idx, :] < lo_limit).astype(int)\n",
    "\n",
    "# Ausgabe zur Kontrolle\n",
    "print(\"Shape der generierten Alarmdaten:\", X_alarms.shape)\n",
    "print(\"Beispiel für generierte Alarmdaten (erstes Sample):\")\n",
    "print(X_alarms[0])"
   ]
  },
  {
   "cell_type": "markdown",
   "id": "303f8239",
   "metadata": {},
   "source": [
    "## 3. Berechnung relevanter Alarmmetriken\n",
    "\n",
    "Berechnen Sie folgende Metriken:\n",
    "\n",
    "- Maximale und durchschnittliche Anzahl aktiver Alarme pro 10 Zeitschritte über alle Alarmfluten\n",
    "- Maximale und durchschnittliche Anzahl neu aktivierter Alarme pro 10 Zeitschritte über alle Alarmfluten"
   ]
  },
  {
   "cell_type": "code",
   "execution_count": null,
   "id": "fd677670",
   "metadata": {},
   "outputs": [],
   "source": [
    "# TODO: Alarmmetriken berechnen und visualisieren"
   ]
  },
  {
   "cell_type": "code",
   "execution_count": 35,
   "id": "5429cb93",
   "metadata": {},
   "outputs": [
    {
     "data": {
      "image/png": "[encoded data removed]",
      "text/plain": [
       "<Figure size 1400x400 with 2 Axes>"
      ]
     },
     "metadata": {},
     "output_type": "display_data"
    }
   ],
   "source": [
    "import matplotlib.pyplot as plt\n",
    "\n",
    "# Anzahl Zeitschritte pro Intervall\n",
    "interval = 10\n",
    "num_intervals = num_timesteps // interval\n",
    "\n",
    "# 1. Durchschnittliche Anzahl aktiver Alarme pro Intervall\n",
    "active_alarms_per_interval = []\n",
    "max_active_alarms_per_interval = []\n",
    "for i in range(num_intervals):\n",
    "    start = i * interval\n",
    "    end = (i + 1) * interval\n",
    "    # Summe der aktiven Alarme pro Sample und Intervall\n",
    "    active = X_alarms[:, :, start:end].sum(axis=2)\n",
    "    # Mittelwert über alle Samples und Alarmvariablen\n",
    "    mean_active = active.mean()\n",
    "    active_alarms_per_interval.append(mean_active)\n",
    "    # Maximale Anzahl aktiver Alarme in diesem Intervall (über alle Samples)\n",
    "    max_active = active.max()\n",
    "    max_active_alarms_per_interval.append(max_active)\n",
    "\n",
    "# 2. Durchschnittliche Anzahl neu aktivierter Alarme pro Intervall\n",
    "new_alarms_per_interval = []\n",
    "max_new_alarms_per_interval = []\n",
    "for i in range(num_intervals):\n",
    "    start = i * interval\n",
    "    end = (i + 1) * interval\n",
    "    diff = np.diff(X_alarms[:, :, start:end], axis=2, prepend=0)\n",
    "    new_alarms = (diff == 1).sum(axis=2)\n",
    "    mean_new = new_alarms.mean()\n",
    "    new_alarms_per_interval.append(mean_new)\n",
    "    max_new = new_alarms.max()\n",
    "    max_new_alarms_per_interval.append(max_new)\n",
    "\n",
    "# Visualisierung\n",
    "plt.figure(figsize=(14, 4))\n",
    "\n",
    "plt.subplot(1, 3, 1)\n",
    "plt.bar(range(num_intervals), active_alarms_per_interval, label='Ø aktiv')\n",
    "plt.plot(range(num_intervals), max_active_alarms_per_interval, 'r--', label='Max aktiv')\n",
    "plt.xlabel('Intervall (10 Zeitschritte)')\n",
    "plt.ylabel('Anzahl aktiver Alarme')\n",
    "plt.title('Aktive Alarme pro Intervall')\n",
    "plt.legend()\n",
    "\n",
    "plt.subplot(1, 3, 2)\n",
    "plt.bar(range(num_intervals), new_alarms_per_interval, color='orange', label='Ø neu')\n",
    "plt.plot(range(num_intervals), max_new_alarms_per_interval, 'r--', label='Max neu')\n",
    "plt.xlabel('Intervall (10 Zeitschritte)')\n",
    "plt.ylabel('Neu aktivierte Alarme')\n",
    "plt.title('Neu aktivierte Alarme pro Intervall')\n",
    "plt.legend()\n",
    "\n",
    "plt.tight_layout()\n",
    "plt.show()"
   ]
  },
  {
   "cell_type": "markdown",
   "id": "92842a1c",
   "metadata": {},
   "source": [
    "## 4. Implementierung eines Alarm-Totbands\n",
    "\n",
    "Implementieren Sie ein Totband für Alarme, um das häufige Aktivieren und Deaktivieren (Flattern) zu vermeiden.\n",
    "\n",
    "- Berechnen Sie das Totband basierend auf gegebenen Prozentwerten."
   ]
  },
  {
   "cell_type": "code",
   "execution_count": null,
   "id": "3a4eea81",
   "metadata": {},
   "outputs": [],
   "source": [
    "# TODO: Alarm-Totband implementieren und erneut Alarme generieren und erneut Metriken berechnen sowie visualisieren"
   ]
  },
  {
   "cell_type": "code",
   "execution_count": 36,
   "id": "aaa0b01a",
   "metadata": {},
   "outputs": [
    {
     "name": "stdout",
     "output_type": "stream",
     "text": [
      "Shape der Alarmdaten mit Totband: (1000, 20, 300)\n",
      "Beispiel für Alarmdaten mit Totband (erstes Sample):\n",
      "[[1. 1. 1. ... 1. 1. 1.]\n",
      " [1. 1. 1. ... 1. 1. 1.]\n",
      " [0. 0. 0. ... 0. 0. 0.]\n",
      " ...\n",
      " [1. 1. 1. ... 1. 1. 1.]\n",
      " [1. 1. 1. ... 1. 1. 1.]\n",
      " [1. 1. 1. ... 1. 0. 0.]]\n"
     ]
    }
   ],
   "source": [
    "# Prozentwert des Totbands (z.B. 1% als Beispiel)\n",
    "deadband_percentage = 0.20\n",
    "\n",
    "# Berechnung der Mittelwerte zwischen HI und LO Grenzwerten\n",
    "alarm_mid_values = (alarm_limits_hi + alarm_limits_lo) / 2\n",
    "alarm_ranges = np.abs(alarm_limits_hi - alarm_limits_lo)\n",
    "\n",
    "# Berechnung des Totbands pro Prozessvariable\n",
    "alarm_deadbands = (alarm_ranges / 2) * deadband_percentage\n",
    "\n",
    "# Anpassen der Grenzwerte mit Totband\n",
    "adjusted_hi_limits = alarm_limits_hi - alarm_deadbands\n",
    "adjusted_lo_limits = alarm_limits_lo + alarm_deadbands\n",
    "\n",
    "# Binäre Alarmdaten mit Totband initialisieren\n",
    "X_alarms_deadband = np.zeros((num_samples, num_variables * 2, num_timesteps))\n",
    "\n",
    "# Alarme mit Totband generieren\n",
    "for sample_idx in range(num_samples):\n",
    "    for var_idx in range(num_variables):\n",
    "        hi_limit_adj = adjusted_hi_limits[var_idx]\n",
    "        lo_limit_adj = adjusted_lo_limits[var_idx]\n",
    "\n",
    "        # High-Alarm mit angepasstem Totband\n",
    "        X_alarms_deadband[sample_idx, var_idx, :] = (\n",
    "            X[sample_idx, var_idx, :] > hi_limit_adj\n",
    "        ).astype(int)\n",
    "\n",
    "        # Low-Alarm mit angepasstem Totband\n",
    "        X_alarms_deadband[sample_idx, var_idx + num_variables, :] = (\n",
    "            X[sample_idx, var_idx, :] < lo_limit_adj\n",
    "        ).astype(int)\n",
    "\n",
    "# Ausgabe zur Kontrolle\n",
    "print(\"Shape der Alarmdaten mit Totband:\", X_alarms_deadband.shape)\n",
    "print(\"Beispiel für Alarmdaten mit Totband (erstes Sample):\")\n",
    "print(X_alarms_deadband[0])\n"
   ]
  },
  {
   "cell_type": "code",
   "execution_count": 37,
   "id": "70b593a2",
   "metadata": {},
   "outputs": [
    {
     "data": {
      "image/png": "[encoded data removed]",
      "text/plain": [
       "<Figure size 1400x400 with 2 Axes>"
      ]
     },
     "metadata": {},
     "output_type": "display_data"
    }
   ],
   "source": [
    "import matplotlib.pyplot as plt\n",
    "\n",
    "# Anzahl Zeitschritte pro Intervall\n",
    "interval = 10\n",
    "num_intervals = num_timesteps // interval\n",
    "\n",
    "# 1. Durchschnittliche Anzahl aktiver Alarme pro Intervall (Totband)\n",
    "active_alarms_per_interval = []\n",
    "max_active_alarms_per_interval = []\n",
    "for i in range(num_intervals):\n",
    "    start = i * interval\n",
    "    end = (i + 1) * interval\n",
    "    active = X_alarms_deadband[:, :, start:end].sum(axis=2)\n",
    "    mean_active = active.mean()\n",
    "    active_alarms_per_interval.append(mean_active)\n",
    "    max_active = active.max()\n",
    "    max_active_alarms_per_interval.append(max_active)\n",
    "\n",
    "# 2. Durchschnittliche Anzahl neu aktivierter Alarme pro Intervall (Totband)\n",
    "new_alarms_per_interval = []\n",
    "max_new_alarms_per_interval = []\n",
    "for i in range(num_intervals):\n",
    "    start = i * interval\n",
    "    end = (i + 1) * interval\n",
    "    diff = np.diff(X_alarms_deadband[:, :, start:end], axis=2, prepend=0)\n",
    "    new_alarms = (diff == 1).sum(axis=2)\n",
    "    mean_new = new_alarms.mean()\n",
    "    new_alarms_per_interval.append(mean_new)\n",
    "    max_new = new_alarms.max()\n",
    "    max_new_alarms_per_interval.append(max_new)\n",
    "\n",
    "# Visualisierung\n",
    "plt.figure(figsize=(14, 4))\n",
    "\n",
    "plt.subplot(1, 3, 1)\n",
    "plt.bar(range(num_intervals), active_alarms_per_interval, label='Ø aktiv (Totband)')\n",
    "plt.plot(range(num_intervals), max_active_alarms_per_interval, 'r--', label='Max aktiv (Totband)')\n",
    "plt.xlabel('Intervall (10 Zeitschritte)')\n",
    "plt.ylabel('Anzahl aktiver Alarme')\n",
    "plt.title('Aktive Alarme pro Intervall (Totband)')\n",
    "plt.legend()\n",
    "\n",
    "plt.subplot(1, 3, 2)\n",
    "plt.bar(range(num_intervals), new_alarms_per_interval, color='orange', label='Ø neu (Totband)')\n",
    "plt.plot(range(num_intervals), max_new_alarms_per_interval, 'r--', label='Max neu (Totband)')\n",
    "plt.xlabel('Intervall (10 Zeitschritte)')\n",
    "plt.ylabel('Neu aktivierte Alarme')\n",
    "plt.title('Neu aktivierte Alarme pro Intervall (Totband)')\n",
    "plt.legend()\n",
    "\n",
    "plt.tight_layout()\n",
    "plt.show()\n"
   ]
  },
  {
   "cell_type": "markdown",
   "id": "841aa254",
   "metadata": {},
   "source": [
    "## 5. Alarmflutklassifikation\n",
    "\n",
    "Klassifizieren Sie Alarmfluten mit zwei unterschiedlichen Methoden:\n",
    "\n",
    "1. **WDI-1NN**: Gewichteter Dissimilaritätsindex mit Nearest Neighbor Klassifikation\n",
    "2. **ACM-SVM**: Alarm-Coaktivierungsmatrix mit Support Vector Machine Klassifikation\n",
    "\n",
    "Implementieren Sie dafür ausschließlich die Merkmalsextraktion.  \n",
    "Die Klassifikationslogik (SVM, 1NN) ist bereits vorgegeben."
   ]
  },
  {
   "cell_type": "code",
   "execution_count": 6,
   "id": "dd7bbe2d",
   "metadata": {},
   "outputs": [],
   "source": [
    "# TODO: Daten in Trainings- und Testset aufteilen"
   ]
  },
  {
   "cell_type": "code",
   "execution_count": 38,
   "id": "35170404",
   "metadata": {},
   "outputs": [
    {
     "name": "stdout",
     "output_type": "stream",
     "text": [
      "Trainingsdaten Shape: (800, 20, 300)\n",
      "Testdaten Shape: (200, 20, 300)\n",
      "Trainingslabels Shape: (800,)\n",
      "Testlabels Shape: (200,)\n"
     ]
    }
   ],
   "source": [
    "from sklearn.model_selection import train_test_split\n",
    "\n",
    "# Aufteilen der Alarmdaten mit Totband (X_alarms_deadband) und Labels (y) in Trainings- und Testdaten\n",
    "X_train, X_test, y_train, y_test = train_test_split(\n",
    "    X_alarms_deadband, y, test_size=0.2, random_state=42, stratify=y\n",
    ")\n",
    "\n",
    "print(\"Trainingsdaten Shape:\", X_train.shape)\n",
    "print(\"Testdaten Shape:\", X_test.shape)\n",
    "print(\"Trainingslabels Shape:\", y_train.shape)\n",
    "print(\"Testlabels Shape:\", y_test.shape)"
   ]
  },
  {
   "cell_type": "markdown",
   "id": "c0d1a485",
   "metadata": {},
   "source": [
    "### 5.1 WDI-1NN: Feature-Extraktion (Templates und Gewichte)\n",
    "\n",
    "Implementieren Sie die Berechnung der gewichteten Templates (WDI-Feature-Extraktion)."
   ]
  },
  {
   "cell_type": "code",
   "execution_count": null,
   "id": "b125de85",
   "metadata": {},
   "outputs": [],
   "source": [
    "# TODO: WDI-Templates und Gewichte aus Trainingsdaten berechnen"
   ]
  },
  {
   "cell_type": "code",
   "execution_count": 40,
   "id": "f9084f71",
   "metadata": {},
   "outputs": [],
   "source": [
    "import numpy as np\n",
    "import pandas as pd\n",
    "\n",
    "\n",
    "class WDI_1NN:\n",
    "    def __init__(self, params={\"template_threshold\": 0.5}):\n",
    "        self.classes = None\n",
    "        self.templates = None\n",
    "        self.weights_novelty = None\n",
    "        self.weights_assignment = None\n",
    "        self.X_active = None\n",
    "        self.template_threshold = params[\"template_threshold\"]\n",
    "\n",
    "    @property\n",
    "    def __name__(self):\n",
    "        return \"WDI_1NN\"\n",
    "\n",
    "    def fit(self, X, y):\n",
    "        self.calc_templates(X, y)\n",
    "        self.calc_weights()\n",
    "\n",
    "    def predict_proba(self, X):\n",
    "        # get vectors with active alarms per sample\n",
    "        X_active = np.array(self.calc_active_alarms(X))\n",
    "        y_proba = []\n",
    "        # iterate over samples\n",
    "        for i in range(X_active.shape[0]):\n",
    "            y_assign_i = []\n",
    "            # iterate over classes\n",
    "            for c in self.classes:\n",
    "                # calculate dissimilarity for assignment\n",
    "                if sum(self.weights_assignment[c]) != 0.0:\n",
    "                    y_assign_i.append(\n",
    "                        sum(\n",
    "                            self.weights_assignment[c]\n",
    "                            * np.abs(X_active[i] - self.templates[c][1])\n",
    "                        )\n",
    "                        / sum(self.weights_assignment[c])\n",
    "                    )\n",
    "                else:\n",
    "                    y_assign_i.append(0)\n",
    "            # get class dissimilarities\n",
    "            y_proba.append(y_assign_i)\n",
    "        return np.array(y_proba)\n",
    "\n",
    "    def calc_active_alarms(self, X):\n",
    "        X_active = []\n",
    "        for i in range(X.shape[0]):\n",
    "            # transform in DataFrame\n",
    "            df = pd.DataFrame(X[i].transpose())\n",
    "            df_max = df.max()\n",
    "            X_active.append([1 if df_max[j] == 1 else 0 for j in range(X.shape[1])])\n",
    "        return np.array(X_active)\n",
    "\n",
    "    def calc_templates(self, X, y):\n",
    "        # get set of unique class labels in y\n",
    "        self.classes = np.unique(y)\n",
    "        # get vectors with active alarms per sample\n",
    "        self.X_active = self.calc_active_alarms(X)\n",
    "        # get the templates per class\n",
    "        templates = {}\n",
    "        for c in self.classes:\n",
    "            sample_indices = np.where(y == c)\n",
    "            class_frequency = sum(self.X_active[sample_indices]) / len(\n",
    "                sample_indices[0]\n",
    "            )\n",
    "            class_template = np.where(class_frequency > self.template_threshold, 1, 0)\n",
    "            templates[c] = [class_frequency, class_template]\n",
    "        self.templates = templates\n",
    "\n",
    "    def calc_weights(self):\n",
    "        weights_assignment, weights_novelty, alpha_weights, beta_weights = (\n",
    "            {},\n",
    "            {},\n",
    "            {},\n",
    "            {},\n",
    "        )\n",
    "        # iterate over all templates / classes\n",
    "        for c in self.classes:\n",
    "            # calc alpha weights\n",
    "            alpha_weights[c] = (self.templates[c][0] * self.templates[c][1]) + (\n",
    "                (1 - self.templates[c][0]) * np.where(self.templates[c][1] == 1, 0, 1)\n",
    "            )\n",
    "        for c in self.classes:\n",
    "            # calc beta weights\n",
    "            beta_weights[c] = (sum(alpha_weights.values()) - alpha_weights[c]) / (\n",
    "                self.classes.shape[0] - 1\n",
    "            )\n",
    "            # calc full weights\n",
    "            weights_novelty[c] = 2 * alpha_weights[c] - 1\n",
    "            # weights_novelty[c] = np.where(\n",
    "            #     weights_novelty[c] >= 0, weights_novelty[c], 0\n",
    "            # )\n",
    "            weights_assignment[c] = (2 * alpha_weights[c] - 1) * (1 - beta_weights[c])\n",
    "            # weights_assignment[c] = np.where(\n",
    "            #     weights_assignment[c] >= 0, weights_assignment[c], 0\n",
    "            # )\n",
    "        self.weights_assignment = weights_assignment\n",
    "        self.weights_novelty = weights_novelty\n"
   ]
  },
  {
   "cell_type": "markdown",
   "id": "479bc04e",
   "metadata": {},
   "source": [
    "### 5.2 ACM-SVM: Feature-Extraktion (Alarm-Koaktivierungsmatrix)\n",
    "\n",
    "Implementieren Sie die Erstellung der Alarm-Koaktivierungsmatrix (ACM)."
   ]
  },
  {
   "cell_type": "code",
   "execution_count": null,
   "id": "f433318b",
   "metadata": {},
   "outputs": [],
   "source": [
    "# TODO: ACM aus Trainingsdaten berechnen"
   ]
  },
  {
   "cell_type": "code",
   "execution_count": 41,
   "id": "e01b8c7a",
   "metadata": {},
   "outputs": [],
   "source": [
    "import numpy as np\n",
    "import pandas as pd\n",
    "from sklearn.pipeline import make_pipeline\n",
    "from sklearn.preprocessing import StandardScaler\n",
    "from sklearn.svm import SVC\n",
    "\n",
    "\n",
    "class ACM_SVM:\n",
    "    \"\"\"\n",
    "    Alarm Coactivation Matrix Support Vector Machine classifier\n",
    "    \"\"\"\n",
    "\n",
    "    def __init__(self, params={}):\n",
    "        self.clf = None\n",
    "\n",
    "    @property\n",
    "    def __name__(self):\n",
    "        return \"ACM_SVM\"\n",
    "\n",
    "    def fit(self, X, y):\n",
    "        # get alarm coactivations\n",
    "        X_acm = self.calc_coactivation(X)\n",
    "        # train SVM with one-vs-one scheme\n",
    "        self.clf = make_pipeline(StandardScaler(), SVC(probability=True))\n",
    "        self.clf.fit(X_acm, y)\n",
    "\n",
    "    def predict_proba(self, X):\n",
    "        # get alarm coactivations\n",
    "        X_acm = self.calc_coactivation(X)\n",
    "        # get the posterior class probabilities\n",
    "        y_scores = self.clf.predict_proba(X_acm)\n",
    "        return np.array(y_scores)\n",
    "\n",
    "    # def calc_coactivation(self, X):\n",
    "    #     acm = []\n",
    "    #     # iterate over all DataFrames\n",
    "    #     for i in range(X.shape[0]):\n",
    "    #         acm_i = []\n",
    "    #         # transform in DataFrame\n",
    "    #         df = pd.DataFrame(X[i].transpose())\n",
    "    #         df_sum = df.sum()\n",
    "    #         # iterate over all signal pairs\n",
    "    #         for j in range(X.shape[1]):\n",
    "    #             for k in range(j, X.shape[1]):\n",
    "    #                 # calculate coactivity for each pair\n",
    "    #                 if df_sum[j] == 0 or df_sum[k] == 0:\n",
    "    #                     acm_i.append(0)\n",
    "    #                 elif j == k:\n",
    "    #                     acm_i.append(1)\n",
    "    #                 else:\n",
    "    #                     df_pair = df[j] + df[k]\n",
    "    #                     a = df_pair[df_pair == 2].count()\n",
    "    #                     b_c = df_pair[df_pair == 1].count()\n",
    "    #                     # calculate Jaccard similarity for each pair\n",
    "    #                     if a == 0 and b_c == 0:\n",
    "    #                         acm_i.append(0)\n",
    "    #                     else:\n",
    "    #                         acm_i.append((a / (a + b_c)))\n",
    "    #         acm.append(acm_i)\n",
    "    #     # create np.array over all samples with\n",
    "    #     # shape (n_samples, n_signal_pairs)\n",
    "    #     return np.array(acm)\n",
    "\n",
    "    def calc_coactivation(self, X):\n",
    "        \"\"\"\n",
    "        Compute the coactivation matrix for each sample in the 3D numpy array X.\n",
    "        Each coactivation matrix contains Jaccard scores for each pair of variables.\n",
    "\n",
    "        :param X: 3D numpy array of shape (n_samples, n_variables, n_timesteps)\n",
    "        :return: 2D numpy array of shape (n_samples, n_variables*(n_variables-1)/2)\n",
    "        \"\"\"\n",
    "        n_samples, n_variables, _ = X.shape\n",
    "        # Initialize the result array with zeros\n",
    "        result = np.zeros((n_samples, n_variables * (n_variables - 1) // 2))\n",
    "\n",
    "        # Iterate over each sample\n",
    "        for i in range(n_samples):\n",
    "            # Initialize a list to store the Jaccard scores for this sample\n",
    "            jaccard_scores = []\n",
    "\n",
    "            # Iterate over each pair of variables\n",
    "            for v1 in range(n_variables):\n",
    "                for v2 in range(v1 + 1, n_variables):\n",
    "                    # Compute the intersection and union of activations for the pair\n",
    "                    intersection = np.sum((X[i, v1, :] == 1) & (X[i, v2, :] == 1))\n",
    "                    union = np.sum((X[i, v1, :] == 1) | (X[i, v2, :] == 1))\n",
    "\n",
    "                    # Calculate the Jaccard score\n",
    "                    if union == 0:\n",
    "                        jaccard_score = 0\n",
    "                    else:\n",
    "                        jaccard_score = intersection / union\n",
    "\n",
    "                    # Add the Jaccard score to the list\n",
    "                    jaccard_scores.append(jaccard_score)\n",
    "\n",
    "            # Store the Jaccard scores in the result array\n",
    "            result[i, :] = jaccard_scores\n",
    "\n",
    "        return result\n"
   ]
  },
  {
   "cell_type": "markdown",
   "id": "8c14d68f",
   "metadata": {},
   "source": [
    "### 5.3 Training der Klassifikationsmodelle (Vorgegeben)\n",
    "\n",
    "Dieser Schritt ist bereits implementiert. Hier werden die extrahierten Merkmale für das Training verwendet."
   ]
  },
  {
   "cell_type": "code",
   "execution_count": null,
   "id": "5093e8d6",
   "metadata": {},
   "outputs": [],
   "source": [
    "# Dieser Teil ist bereits implementiert (zur Verfügung gestellt)"
   ]
  },
  {
   "cell_type": "code",
   "execution_count": 42,
   "id": "306587d1",
   "metadata": {},
   "outputs": [],
   "source": [
    "# WDI-1NN Modell trainieren\n",
    "wdi_model = WDI_1NN(params={\"template_threshold\": 0.5})\n",
    "wdi_model.fit(X_train, y_train)\n",
    "\n",
    "# ACM-SVM Modell trainieren\n",
    "acm_model = ACM_SVM()\n",
    "acm_model.fit(X_train, y_train)"
   ]
  },
  {
   "cell_type": "markdown",
   "id": "1bcd4efe",
   "metadata": {},
   "source": [
    "## 6. Evaluierung der Klassifikation\n",
    "\n",
    "Evaluieren Sie nun Ihre beiden Klassifikationsmodelle auf dem Testset:\n",
    "\n",
    "- Berechnung und Ausgabe der Genauigkeit (Accuracy)\n",
    "- Erzeugung einer Confusion Matrix zur Ergebnisbewertung"
   ]
  },
  {
   "cell_type": "code",
   "execution_count": null,
   "id": "e4049f1b",
   "metadata": {},
   "outputs": [],
   "source": [
    "# TODO: Ergebnisse evaluieren und Confusion Matrix erzeugen"
   ]
  },
  {
   "cell_type": "code",
   "execution_count": 43,
   "id": "fadc908d",
   "metadata": {},
   "outputs": [
    {
     "name": "stdout",
     "output_type": "stream",
     "text": [
      "WDI-1NN Accuracy: 0.395\n"
     ]
    },
    {
     "data": {
      "image/png": "[encoded data removed]",
      "text/plain": [
       "<Figure size 640x480 with 2 Axes>"
      ]
     },
     "metadata": {},
     "output_type": "display_data"
    },
    {
     "name": "stdout",
     "output_type": "stream",
     "text": [
      "ACM-SVM Accuracy: 0.720\n"
     ]
    },
    {
     "data": {
      "image/png": "[encoded data removed]",
      "text/plain": [
       "<Figure size 640x480 with 2 Axes>"
      ]
     },
     "metadata": {},
     "output_type": "display_data"
    }
   ],
   "source": [
    "from sklearn.metrics import accuracy_score, confusion_matrix, ConfusionMatrixDisplay\n",
    "import numpy as np\n",
    "\n",
    "import matplotlib.pyplot as plt\n",
    "\n",
    "# WDI-1NN Vorhersagen\n",
    "wdi_probs = wdi_model.predict_proba(X_test)\n",
    "wdi_preds = np.argmin(wdi_probs, axis=1)\n",
    "wdi_acc = accuracy_score(y_test, wdi_preds)\n",
    "wdi_cm = confusion_matrix(y_test, wdi_preds)\n",
    "\n",
    "print(f\"WDI-1NN Accuracy: {wdi_acc:.3f}\")\n",
    "disp1 = ConfusionMatrixDisplay(wdi_cm)\n",
    "disp1.plot(cmap=\"Blues\")\n",
    "plt.title(\"WDI-1NN Confusion Matrix\")\n",
    "plt.show()\n",
    "\n",
    "# ACM-SVM Vorhersagen\n",
    "acm_probs = acm_model.predict_proba(X_test)\n",
    "acm_preds = np.argmax(acm_probs, axis=1)\n",
    "acm_acc = accuracy_score(y_test, acm_preds)\n",
    "acm_cm = confusion_matrix(y_test, acm_preds)\n",
    "\n",
    "print(f\"ACM-SVM Accuracy: {acm_acc:.3f}\")\n",
    "disp2 = ConfusionMatrixDisplay(acm_cm)\n",
    "disp2.plot(cmap=\"Greens\")\n",
    "plt.title(\"ACM-SVM Confusion Matrix\")\n",
    "plt.show()"
   ]
  },
  {
   "cell_type": "markdown",
   "id": "e6486aef",
   "metadata": {},
   "source": [
    "## 7. Zusammenfassung und Interpretation\n",
    "\n",
    "- Vergleichen Sie die Ergebnisse der beiden Methoden.\n",
    "- Diskutieren Sie die erzielte Genauigkeit und eventuelle Stärken und Schwächen der Methoden."
   ]
  }
 ],
 "metadata": {
  "kernelspec": {
   "display_name": ".venv",
   "language": "python",
   "name": "python3"
  },
  "language_info": {
   "codemirror_mode": {
    "name": "ipython",
    "version": 3
   },
   "file_extension": ".py",
   "mimetype": "text/x-python",
   "name": "python",
   "nbconvert_exporter": "python",
   "pygments_lexer": "ipython3",
   "version": "3.12.8"
  }
 },
 "nbformat": 4,
 "nbformat_minor": 5
}
